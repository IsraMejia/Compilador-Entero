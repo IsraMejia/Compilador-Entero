{
 "cells": [
  {
   "cell_type": "code",
   "execution_count": 1,
   "metadata": {},
   "outputs": [
    {
     "ename": "ModuleNotFoundError",
     "evalue": "No module named 'clang'",
     "output_type": "error",
     "traceback": [
      "\u001b[0;31m---------------------------------------------------------------------------\u001b[0m",
      "\u001b[0;31mModuleNotFoundError\u001b[0m                       Traceback (most recent call last)",
      "Cell \u001b[0;32mIn [1], line 1\u001b[0m\n\u001b[0;32m----> 1\u001b[0m \u001b[38;5;28;01mimport\u001b[39;00m \u001b[38;5;21;01mclang\u001b[39;00m\n\u001b[1;32m      3\u001b[0m \u001b[38;5;28;01mdef\u001b[39;00m \u001b[38;5;21mclang_to_asm\u001b[39m(c_code):\n\u001b[1;32m      4\u001b[0m   \u001b[38;5;124;03m\"\"\"\u001b[39;00m\n\u001b[1;32m      5\u001b[0m \u001b[38;5;124;03m  Traduce código C a lenguaje ensamblador utilizando Clang.\u001b[39;00m\n\u001b[1;32m      6\u001b[0m \n\u001b[0;32m   (...)\u001b[0m\n\u001b[1;32m     11\u001b[0m \u001b[38;5;124;03m    Código ensamblador equivalente.\u001b[39;00m\n\u001b[1;32m     12\u001b[0m \u001b[38;5;124;03m  \"\"\"\u001b[39;00m\n",
      "\u001b[0;31mModuleNotFoundError\u001b[0m: No module named 'clang'"
     ]
    }
   ],
   "source": [
    "import clang\n",
    "\n",
    "def clang_to_asm(c_code):\n",
    "  \"\"\"\n",
    "  Traduce código C a lenguaje ensamblador utilizando Clang.\n",
    "\n",
    "  Args:\n",
    "    c_code: Código C a traducir.\n",
    "\n",
    "  Returns:\n",
    "    Código ensamblador equivalente.\n",
    "  \"\"\"\n",
    "\n",
    "  # Creamos un analizador léxico y sintáctico de Clang.\n",
    "  index = 0\n",
    "  c_parser = clang.cindex.Parser(index)\n",
    "\n",
    "  # Parseamos el código C.\n",
    "\n",
    "  translation_unit = c_parser.parse(c_code)\n",
    "\n",
    "  # Obtenemos el código ensamblador del analizador.\n",
    "\n",
    "  asm_code = translation_unit.get_assembly()\n",
    "\n",
    "  return asm_code\n",
    "\n",
    "\n",
    "if __name__ == \"__main__\":\n",
    "  c_code = \"\"\"\n",
    "  int main() {\n",
    "    int a = 1;\n",
    "    int b = 2;\n",
    "\n",
    "    a = a + b;\n",
    "\n",
    "    return 0;\n",
    "  }\n",
    "  \"\"\"\n",
    "\n",
    "  asm_code = clang_to_asm(c_code)\n",
    "\n",
    "  print(asm_code)\n"
   ]
  },
  {
   "cell_type": "code",
   "execution_count": 2,
   "metadata": {},
   "outputs": [
    {
     "ename": "ModuleNotFoundError",
     "evalue": "No module named 'pycparser'",
     "output_type": "error",
     "traceback": [
      "\u001b[0;31m---------------------------------------------------------------------------\u001b[0m",
      "\u001b[0;31mModuleNotFoundError\u001b[0m                       Traceback (most recent call last)",
      "Cell \u001b[0;32mIn [2], line 1\u001b[0m\n\u001b[0;32m----> 1\u001b[0m \u001b[38;5;28;01mimport\u001b[39;00m \u001b[38;5;21;01mpycparser\u001b[39;00m\n\u001b[1;32m      3\u001b[0m \u001b[38;5;28;01mdef\u001b[39;00m \u001b[38;5;21mc_to_asm\u001b[39m(c_code):\n\u001b[1;32m      4\u001b[0m   \u001b[38;5;124;03m\"\"\"\u001b[39;00m\n\u001b[1;32m      5\u001b[0m \u001b[38;5;124;03m  Traduce código C a lenguaje ensamblador utilizando Pycparser.\u001b[39;00m\n\u001b[1;32m      6\u001b[0m \n\u001b[0;32m   (...)\u001b[0m\n\u001b[1;32m     11\u001b[0m \u001b[38;5;124;03m    Código ensamblador equivalente.\u001b[39;00m\n\u001b[1;32m     12\u001b[0m \u001b[38;5;124;03m  \"\"\"\u001b[39;00m\n",
      "\u001b[0;31mModuleNotFoundError\u001b[0m: No module named 'pycparser'"
     ]
    }
   ],
   "source": [
    "import pycparser\n",
    "\n",
    "def c_to_asm(c_code):\n",
    "  \"\"\"\n",
    "  Traduce código C a lenguaje ensamblador utilizando Pycparser.\n",
    "\n",
    "  Args:\n",
    "    c_code: Código C a traducir.\n",
    "\n",
    "  Returns:\n",
    "    Código ensamblador equivalente.\n",
    "  \"\"\"\n",
    "\n",
    "  # Creamos un analizador léxico y sintáctico de C.\n",
    "\n",
    "  c_parser = pycparser.CParser()\n",
    "\n",
    "  # Parseamos el código C.\n",
    "\n",
    "  translation_unit = c_parser.parse(c_code)\n",
    "\n",
    "  # Obtenemos el código ensamblador del analizador.\n",
    "\n",
    "  asm_code = translation_unit.to_assembly()\n",
    "\n",
    "  return asm_code\n",
    "\n",
    "\n",
    "if __name__ == \"__main__\":\n",
    "  c_code = \"\"\"\n",
    "  int main() {\n",
    "    int a = 1;\n",
    "    int b = 2;\n",
    "\n",
    "    a = a + b;\n",
    "\n",
    "    return 0;\n",
    "  }\n",
    "  \"\"\"\n",
    "\n",
    "  asm_code = c_to_asm(c_code)\n",
    "\n",
    "  print(asm_code)\n"
   ]
  },
  {
   "cell_type": "code",
   "execution_count": 3,
   "metadata": {},
   "outputs": [
    {
     "name": "stdout",
     "output_type": "stream",
     "text": [
      "\t.section\t__TEXT,__text,regular,pure_instructions\n",
      "\t.build_version macos, 12, 0\tsdk_version 12, 3\n",
      "\t.globl\t_main                           ## -- Begin function main\n",
      "\t.p2align\t4, 0x90\n",
      "_main:                                  ## @main\n",
      "\t.cfi_startproc\n",
      "## %bb.0:\n",
      "\tpushq\t%rbp\n",
      "\t.cfi_def_cfa_offset 16\n",
      "\t.cfi_offset %rbp, -16\n",
      "\tmovq\t%rsp, %rbp\n",
      "\t.cfi_def_cfa_register %rbp\n",
      "\tsubq\t$16, %rsp\n",
      "\tmovl\t$0, -4(%rbp)\n",
      "\tleaq\tL_.str(%rip), %rdi\n",
      "\tmovb\t$0, %al\n",
      "\tcallq\t_printf\n",
      "\txorl\t%eax, %eax\n",
      "\taddq\t$16, %rsp\n",
      "\tpopq\t%rbp\n",
      "\tretq\n",
      "\t.cfi_endproc\n",
      "                                        ## -- End function\n",
      "\t.section\t__TEXT,__cstring,cstring_literals\n",
      "L_.str:                                 ## @.str\n",
      "\t.asciz\t\"Hola, mundo!\\n\"\n",
      "\n",
      ".subsections_via_symbols\n",
      "\n"
     ]
    }
   ],
   "source": [
    "import subprocess\n",
    "\n",
    "def c_code_to_asm(c_code):\n",
    "    # Crear un archivo temporal con el código C\n",
    "    with open('temp.c', 'w') as f:\n",
    "        f.write(c_code)\n",
    "\n",
    "    # Llamar a gcc para compilar el código C y generar el ensamblador\n",
    "    subprocess.run(['gcc', '-S', 'temp.c'])\n",
    "\n",
    "    # Leer el contenido del archivo ensamblador generado\n",
    "    with open('temp.s', 'r') as f:\n",
    "        asm_code = f.read()\n",
    "\n",
    "    return asm_code\n",
    "\n",
    "# Ejemplo de código C\n",
    "c_code = \"\"\"\n",
    "#include <stdio.h>\n",
    "int main() {\n",
    "    printf(\"Hola, mundo!\\\\n\");\n",
    "    return 0;\n",
    "}\n",
    "\"\"\"\n",
    "\n",
    "# Obtener el código ensamblador\n",
    "asm_code = c_code_to_asm(c_code)\n",
    "\n",
    "# Imprimir el código ensamblador\n",
    "print(asm_code)"
   ]
  }
 ],
 "metadata": {
  "kernelspec": {
   "display_name": "Python 3.10.7 64-bit",
   "language": "python",
   "name": "python3"
  },
  "language_info": {
   "codemirror_mode": {
    "name": "ipython",
    "version": 3
   },
   "file_extension": ".py",
   "mimetype": "text/x-python",
   "name": "python",
   "nbconvert_exporter": "python",
   "pygments_lexer": "ipython3",
   "version": "3.10.7"
  },
  "vscode": {
   "interpreter": {
    "hash": "aee8b7b246df8f9039afb4144a1f6fd8d2ca17a180786b69acc140d282b71a49"
   }
  }
 },
 "nbformat": 4,
 "nbformat_minor": 2
}
