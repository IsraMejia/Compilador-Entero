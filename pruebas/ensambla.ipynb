{
 "cells": [
  {
   "cell_type": "code",
   "execution_count": 4,
   "metadata": {},
   "outputs": [
    {
     "ename": "AttributeError",
     "evalue": "module 'clang' has no attribute 'cindex'",
     "output_type": "error",
     "traceback": [
      "\u001b[1;31m---------------------------------------------------------------------------\u001b[0m",
      "\u001b[1;31mAttributeError\u001b[0m                            Traceback (most recent call last)",
      "\u001b[1;32mc:\\Users\\IsraCode\\Documents\\FI\\2024-1\\Compiladores\\Compilador3\\Nuevo\\Compilador\\pruebas\\ensambla.ipynb Celda 1\u001b[0m line \u001b[0;36m4\n\u001b[0;32m     <a href='vscode-notebook-cell:/c%3A/Users/IsraCode/Documents/FI/2024-1/Compiladores/Compilador3/Nuevo/Compilador/pruebas/ensambla.ipynb#W0sZmlsZQ%3D%3D?line=28'>29</a>\u001b[0m \u001b[39mif\u001b[39;00m \u001b[39m__name__\u001b[39m \u001b[39m==\u001b[39m \u001b[39m\"\u001b[39m\u001b[39m__main__\u001b[39m\u001b[39m\"\u001b[39m:\n\u001b[0;32m     <a href='vscode-notebook-cell:/c%3A/Users/IsraCode/Documents/FI/2024-1/Compiladores/Compilador3/Nuevo/Compilador/pruebas/ensambla.ipynb#W0sZmlsZQ%3D%3D?line=29'>30</a>\u001b[0m   c_code \u001b[39m=\u001b[39m \u001b[39m\"\"\"\u001b[39m\n\u001b[0;32m     <a href='vscode-notebook-cell:/c%3A/Users/IsraCode/Documents/FI/2024-1/Compiladores/Compilador3/Nuevo/Compilador/pruebas/ensambla.ipynb#W0sZmlsZQ%3D%3D?line=30'>31</a>\u001b[0m \u001b[39m  int main() \u001b[39m\u001b[39m{\u001b[39m\n\u001b[0;32m     <a href='vscode-notebook-cell:/c%3A/Users/IsraCode/Documents/FI/2024-1/Compiladores/Compilador3/Nuevo/Compilador/pruebas/ensambla.ipynb#W0sZmlsZQ%3D%3D?line=31'>32</a>\u001b[0m \u001b[39m    int a = 1;\u001b[39m\n\u001b[1;32m   (...)\u001b[0m\n\u001b[0;32m     <a href='vscode-notebook-cell:/c%3A/Users/IsraCode/Documents/FI/2024-1/Compiladores/Compilador3/Nuevo/Compilador/pruebas/ensambla.ipynb#W0sZmlsZQ%3D%3D?line=37'>38</a>\u001b[0m \u001b[39m  }\u001b[39m\n\u001b[0;32m     <a href='vscode-notebook-cell:/c%3A/Users/IsraCode/Documents/FI/2024-1/Compiladores/Compilador3/Nuevo/Compilador/pruebas/ensambla.ipynb#W0sZmlsZQ%3D%3D?line=38'>39</a>\u001b[0m \u001b[39m  \u001b[39m\u001b[39m\"\"\"\u001b[39m\n\u001b[1;32m---> <a href='vscode-notebook-cell:/c%3A/Users/IsraCode/Documents/FI/2024-1/Compiladores/Compilador3/Nuevo/Compilador/pruebas/ensambla.ipynb#W0sZmlsZQ%3D%3D?line=40'>41</a>\u001b[0m   asm_code \u001b[39m=\u001b[39m clang_to_asm(c_code)\n\u001b[0;32m     <a href='vscode-notebook-cell:/c%3A/Users/IsraCode/Documents/FI/2024-1/Compiladores/Compilador3/Nuevo/Compilador/pruebas/ensambla.ipynb#W0sZmlsZQ%3D%3D?line=42'>43</a>\u001b[0m   \u001b[39mprint\u001b[39m(asm_code)\n",
      "\u001b[1;32mc:\\Users\\IsraCode\\Documents\\FI\\2024-1\\Compiladores\\Compilador3\\Nuevo\\Compilador\\pruebas\\ensambla.ipynb Celda 1\u001b[0m line \u001b[0;36m1\n\u001b[0;32m     <a href='vscode-notebook-cell:/c%3A/Users/IsraCode/Documents/FI/2024-1/Compiladores/Compilador3/Nuevo/Compilador/pruebas/ensambla.ipynb#W0sZmlsZQ%3D%3D?line=13'>14</a>\u001b[0m \u001b[39m# Creamos un analizador léxico y sintáctico de Clang.\u001b[39;00m\n\u001b[0;32m     <a href='vscode-notebook-cell:/c%3A/Users/IsraCode/Documents/FI/2024-1/Compiladores/Compilador3/Nuevo/Compilador/pruebas/ensambla.ipynb#W0sZmlsZQ%3D%3D?line=14'>15</a>\u001b[0m index \u001b[39m=\u001b[39m \u001b[39m0\u001b[39m\n\u001b[1;32m---> <a href='vscode-notebook-cell:/c%3A/Users/IsraCode/Documents/FI/2024-1/Compiladores/Compilador3/Nuevo/Compilador/pruebas/ensambla.ipynb#W0sZmlsZQ%3D%3D?line=15'>16</a>\u001b[0m c_parser \u001b[39m=\u001b[39m clang\u001b[39m.\u001b[39;49mcindex\u001b[39m.\u001b[39mParser(index)\n\u001b[0;32m     <a href='vscode-notebook-cell:/c%3A/Users/IsraCode/Documents/FI/2024-1/Compiladores/Compilador3/Nuevo/Compilador/pruebas/ensambla.ipynb#W0sZmlsZQ%3D%3D?line=17'>18</a>\u001b[0m \u001b[39m# Parseamos el código C.\u001b[39;00m\n\u001b[0;32m     <a href='vscode-notebook-cell:/c%3A/Users/IsraCode/Documents/FI/2024-1/Compiladores/Compilador3/Nuevo/Compilador/pruebas/ensambla.ipynb#W0sZmlsZQ%3D%3D?line=19'>20</a>\u001b[0m translation_unit \u001b[39m=\u001b[39m c_parser\u001b[39m.\u001b[39mparse(c_code)\n",
      "\u001b[1;31mAttributeError\u001b[0m: module 'clang' has no attribute 'cindex'"
     ]
    }
   ],
   "source": [
    "import clang\n",
    "\n",
    "def clang_to_asm(c_code):\n",
    "  \"\"\"\n",
    "  Traduce código C a lenguaje ensamblador utilizando Clang.\n",
    "\n",
    "  Args:\n",
    "    c_code: Código C a traducir.\n",
    "\n",
    "  Returns:\n",
    "    Código ensamblador equivalente.\n",
    "  \"\"\"\n",
    "\n",
    "  # Creamos un analizador léxico y sintáctico de Clang.\n",
    "  index = 0\n",
    "  c_parser = clang.cindex.Parser(index)\n",
    "\n",
    "  # Parseamos el código C.\n",
    "\n",
    "  translation_unit = c_parser.parse(c_code)\n",
    "\n",
    "  # Obtenemos el código ensamblador del analizador.\n",
    "\n",
    "  asm_code = translation_unit.get_assembly()\n",
    "\n",
    "  return asm_code\n",
    "\n",
    "\n",
    "if __name__ == \"__main__\":\n",
    "  c_code = \"\"\"\n",
    "  int main() {\n",
    "    int a = 1;\n",
    "    int b = 2;\n",
    "\n",
    "    a = a + b;\n",
    "\n",
    "    return 0;\n",
    "  }\n",
    "  \"\"\"\n",
    "\n",
    "  asm_code = clang_to_asm(c_code)\n",
    "\n",
    "  print(asm_code)\n"
   ]
  },
  {
   "cell_type": "code",
   "execution_count": 5,
   "metadata": {},
   "outputs": [
    {
     "ename": "AttributeError",
     "evalue": "'FileAST' object has no attribute 'to_assembly'",
     "output_type": "error",
     "traceback": [
      "\u001b[1;31m---------------------------------------------------------------------------\u001b[0m",
      "\u001b[1;31mAttributeError\u001b[0m                            Traceback (most recent call last)",
      "\u001b[1;32mc:\\Users\\IsraCode\\Documents\\FI\\2024-1\\Compiladores\\Compilador3\\Nuevo\\Compilador\\pruebas\\ensambla.ipynb Celda 2\u001b[0m line \u001b[0;36m4\n\u001b[0;32m     <a href='vscode-notebook-cell:/c%3A/Users/IsraCode/Documents/FI/2024-1/Compiladores/Compilador3/Nuevo/Compilador/pruebas/ensambla.ipynb#W1sZmlsZQ%3D%3D?line=28'>29</a>\u001b[0m \u001b[39mif\u001b[39;00m \u001b[39m__name__\u001b[39m \u001b[39m==\u001b[39m \u001b[39m\"\u001b[39m\u001b[39m__main__\u001b[39m\u001b[39m\"\u001b[39m:\n\u001b[0;32m     <a href='vscode-notebook-cell:/c%3A/Users/IsraCode/Documents/FI/2024-1/Compiladores/Compilador3/Nuevo/Compilador/pruebas/ensambla.ipynb#W1sZmlsZQ%3D%3D?line=29'>30</a>\u001b[0m   c_code \u001b[39m=\u001b[39m \u001b[39m\"\"\"\u001b[39m\n\u001b[0;32m     <a href='vscode-notebook-cell:/c%3A/Users/IsraCode/Documents/FI/2024-1/Compiladores/Compilador3/Nuevo/Compilador/pruebas/ensambla.ipynb#W1sZmlsZQ%3D%3D?line=30'>31</a>\u001b[0m \u001b[39m  int main() \u001b[39m\u001b[39m{\u001b[39m\n\u001b[0;32m     <a href='vscode-notebook-cell:/c%3A/Users/IsraCode/Documents/FI/2024-1/Compiladores/Compilador3/Nuevo/Compilador/pruebas/ensambla.ipynb#W1sZmlsZQ%3D%3D?line=31'>32</a>\u001b[0m \u001b[39m    int a = 1;\u001b[39m\n\u001b[1;32m   (...)\u001b[0m\n\u001b[0;32m     <a href='vscode-notebook-cell:/c%3A/Users/IsraCode/Documents/FI/2024-1/Compiladores/Compilador3/Nuevo/Compilador/pruebas/ensambla.ipynb#W1sZmlsZQ%3D%3D?line=37'>38</a>\u001b[0m \u001b[39m  }\u001b[39m\n\u001b[0;32m     <a href='vscode-notebook-cell:/c%3A/Users/IsraCode/Documents/FI/2024-1/Compiladores/Compilador3/Nuevo/Compilador/pruebas/ensambla.ipynb#W1sZmlsZQ%3D%3D?line=38'>39</a>\u001b[0m \u001b[39m  \u001b[39m\u001b[39m\"\"\"\u001b[39m\n\u001b[1;32m---> <a href='vscode-notebook-cell:/c%3A/Users/IsraCode/Documents/FI/2024-1/Compiladores/Compilador3/Nuevo/Compilador/pruebas/ensambla.ipynb#W1sZmlsZQ%3D%3D?line=40'>41</a>\u001b[0m   asm_code \u001b[39m=\u001b[39m c_to_asm(c_code)\n\u001b[0;32m     <a href='vscode-notebook-cell:/c%3A/Users/IsraCode/Documents/FI/2024-1/Compiladores/Compilador3/Nuevo/Compilador/pruebas/ensambla.ipynb#W1sZmlsZQ%3D%3D?line=42'>43</a>\u001b[0m   \u001b[39mprint\u001b[39m(asm_code)\n",
      "\u001b[1;32mc:\\Users\\IsraCode\\Documents\\FI\\2024-1\\Compiladores\\Compilador3\\Nuevo\\Compilador\\pruebas\\ensambla.ipynb Celda 2\u001b[0m line \u001b[0;36m2\n\u001b[0;32m     <a href='vscode-notebook-cell:/c%3A/Users/IsraCode/Documents/FI/2024-1/Compiladores/Compilador3/Nuevo/Compilador/pruebas/ensambla.ipynb#W1sZmlsZQ%3D%3D?line=19'>20</a>\u001b[0m translation_unit \u001b[39m=\u001b[39m c_parser\u001b[39m.\u001b[39mparse(c_code)\n\u001b[0;32m     <a href='vscode-notebook-cell:/c%3A/Users/IsraCode/Documents/FI/2024-1/Compiladores/Compilador3/Nuevo/Compilador/pruebas/ensambla.ipynb#W1sZmlsZQ%3D%3D?line=21'>22</a>\u001b[0m \u001b[39m# Obtenemos el código ensamblador del analizador.\u001b[39;00m\n\u001b[1;32m---> <a href='vscode-notebook-cell:/c%3A/Users/IsraCode/Documents/FI/2024-1/Compiladores/Compilador3/Nuevo/Compilador/pruebas/ensambla.ipynb#W1sZmlsZQ%3D%3D?line=23'>24</a>\u001b[0m asm_code \u001b[39m=\u001b[39m translation_unit\u001b[39m.\u001b[39;49mto_assembly()\n\u001b[0;32m     <a href='vscode-notebook-cell:/c%3A/Users/IsraCode/Documents/FI/2024-1/Compiladores/Compilador3/Nuevo/Compilador/pruebas/ensambla.ipynb#W1sZmlsZQ%3D%3D?line=25'>26</a>\u001b[0m \u001b[39mreturn\u001b[39;00m asm_code\n",
      "\u001b[1;31mAttributeError\u001b[0m: 'FileAST' object has no attribute 'to_assembly'"
     ]
    }
   ],
   "source": [
    "import pycparser\n",
    "\n",
    "def c_to_asm(c_code):\n",
    "  \"\"\"\n",
    "  Traduce código C a lenguaje ensamblador utilizando Pycparser.\n",
    "\n",
    "  Args:\n",
    "    c_code: Código C a traducir.\n",
    "\n",
    "  Returns:\n",
    "    Código ensamblador equivalente.\n",
    "  \"\"\"\n",
    "\n",
    "  # Creamos un analizador léxico y sintáctico de C.\n",
    "\n",
    "  c_parser = pycparser.CParser()\n",
    "\n",
    "  # Parseamos el código C.\n",
    "\n",
    "  translation_unit = c_parser.parse(c_code)\n",
    "\n",
    "  # Obtenemos el código ensamblador del analizador.\n",
    "\n",
    "  asm_code = translation_unit.to_assembly()\n",
    "\n",
    "  return asm_code\n",
    "\n",
    "\n",
    "if __name__ == \"__main__\":\n",
    "  c_code = \"\"\"\n",
    "  int main() {\n",
    "    int a = 1;\n",
    "    int b = 2;\n",
    "\n",
    "    a = a + b;\n",
    "\n",
    "    return 0;\n",
    "  }\n",
    "  \"\"\"\n",
    "\n",
    "  asm_code = c_to_asm(c_code)\n",
    "\n",
    "  print(asm_code)\n"
   ]
  }
 ],
 "metadata": {
  "kernelspec": {
   "display_name": "Python 3",
   "language": "python",
   "name": "python3"
  },
  "language_info": {
   "codemirror_mode": {
    "name": "ipython",
    "version": 3
   },
   "file_extension": ".py",
   "mimetype": "text/x-python",
   "name": "python",
   "nbconvert_exporter": "python",
   "pygments_lexer": "ipython3",
   "version": "3.11.2"
  }
 },
 "nbformat": 4,
 "nbformat_minor": 2
}
